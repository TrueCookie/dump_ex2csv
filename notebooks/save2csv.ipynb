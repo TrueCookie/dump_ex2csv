{
 "cells": [
  {
   "attachments": {},
   "cell_type": "markdown",
   "metadata": {},
   "source": [
    "# Политика сохранения\n",
    "I. Создаём резервную копию на каждое сохранение файла excel\n",
    "    - Служба запускается каждые 30 минут.\n",
    "    1. Проверяем: (время последнего изменения файла)\n",
    "    file_state != last_state\n",
    "        1.1 Состояние файла хранится в служебном файле .dump.state\n",
    "\n",
    "    2. Если состояние изменилось - делаем дамп\n",
    "        <!-- 2.1 Сохраняем дамп ячеек только по сегодняшней дате -->\n",
    "\n",
    "    3. Удаляем самый старый дамп, если их больше 30\n",
    "\n",
    "II. На каждое (значимое) изменение файла в процессе работы \n",
    "<!-- ?? Возможно ли отслеживать изменения во время работы? -->\n",
    "    -? Если существует файл \"~/celWorkbook\" - сохранять состояние на каждое изменение"
   ]
  },
  {
   "cell_type": "code",
   "execution_count": 15,
   "metadata": {},
   "outputs": [],
   "source": [
    "source_file = './files/source.xlsx'\n",
    "dump_dir  = './files/dump/'\n",
    "dump_state_file = './files/dump/.dump.state'"
   ]
  },
  {
   "cell_type": "code",
   "execution_count": 5,
   "metadata": {},
   "outputs": [],
   "source": [
    "import openpyxl\n",
    "import csv\n",
    "import os\n",
    "import sys\n",
    "\n",
    "from datetime import datetime"
   ]
  },
  {
   "cell_type": "code",
   "execution_count": 18,
   "metadata": {},
   "outputs": [],
   "source": [
    "# Сохранить дамп\n",
    "def dump_save(source: str, dump_dir: str):\n",
    "    DUMP_FILENAME = 'dump'\n",
    "    \n",
    "    wb = openpyxl.load_workbook(source)\n",
    "    sh = wb.active  #wb['Sheet1']\n",
    "\n",
    "    \n",
    "    savetime = datetime.now().strftime('%d.%m.%Y - %H.%M')\n",
    "    dump = dump_dir + DUMP_FILENAME + '_' + savetime + '.csv'\n",
    "\n",
    "    with open(dump, 'w', newline='', encoding='utf-8') as f:\n",
    "        f_writer = csv.writer(f)\n",
    "        for row in sh.rows:\n",
    "            f_writer.writerow([cell.value for cell in row])"
   ]
  },
  {
   "cell_type": "code",
   "execution_count": 35,
   "metadata": {},
   "outputs": [],
   "source": [
    "def dump_cleanup(dump_dir: str):\n",
    "    file_list = [file for file in os.listdir(dump_dir)]\n",
    "    file_list.remove('.dump.state')\n",
    "\n",
    "    if len(file_list) > 30:\n",
    "        file_list.sort()\n",
    "        os.remove(dump_dir + file_list[0])"
   ]
  },
  {
   "cell_type": "code",
   "execution_count": 36,
   "metadata": {},
   "outputs": [],
   "source": [
    "# Обновить .dump.state\n",
    "def dump_update():\n",
    "    # file_state получили \n",
    "    file_state = datetime.fromtimestamp(\n",
    "                    os.path.getmtime(source_file)\n",
    "                ).strftime('%Y.%m.%d - %H.%M')\n",
    "\n",
    "\n",
    "    if not os.path.exists(dump_dir):\n",
    "        os.mkdir(dump_dir)\n",
    "    else:\n",
    "        # сравнили\n",
    "        with open(dump_state_file, 'r', encoding='utf-8') as f:\n",
    "            last_state = f.read()\n",
    "\n",
    "    # если не равны\n",
    "    if file_state != last_state or last_state is None:\n",
    "        # 1.сохранили dump\n",
    "        dump_save(source_file, dump_dir)\n",
    "\n",
    "        # 2.записали новый last_state\n",
    "        with open(dump_state_file, 'w', encoding='utf-8') as f:\n",
    "            f.write(file_state)\n",
    "    \n",
    "    # исполнить dump policy (очистить дамп)\n",
    "    dump_cleanup(dump_dir)\n"
   ]
  },
  {
   "cell_type": "code",
   "execution_count": 5,
   "metadata": {},
   "outputs": [
    {
     "name": "stdout",
     "output_type": "stream",
     "text": [
      "FileNotFoundError\n"
     ]
    }
   ],
   "source": [
    "# TESTING\n",
    "try:\n",
    "    source = './file/source.xlsx'\n",
    "    wb = openpyxl.load_workbook(source)\n",
    "except FileNotFoundError:\n",
    "    print(\"FileNotFoundError\")"
   ]
  }
 ],
 "metadata": {
  "kernelspec": {
   "display_name": "Python 3",
   "language": "python",
   "name": "python3"
  },
  "language_info": {
   "codemirror_mode": {
    "name": "ipython",
    "version": 3
   },
   "file_extension": ".py",
   "mimetype": "text/x-python",
   "name": "python",
   "nbconvert_exporter": "python",
   "pygments_lexer": "ipython3",
   "version": "3.9.13"
  },
  "orig_nbformat": 4
 },
 "nbformat": 4,
 "nbformat_minor": 2
}
